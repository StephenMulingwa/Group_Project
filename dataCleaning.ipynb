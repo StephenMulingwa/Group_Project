{
 "cells": [
  {
   "cell_type": "markdown",
   "metadata": {},
   "source": [
    "## Cleaning Merged Data"
   ]
  },
  {
   "cell_type": "code",
   "execution_count": 1,
   "metadata": {},
   "outputs": [],
   "source": [
    "## Necessary Libs\n",
    "import pandas as pd"
   ]
  },
  {
   "cell_type": "code",
   "execution_count": 2,
   "metadata": {},
   "outputs": [],
   "source": [
    "path = './mergedData.csv'"
   ]
  },
  {
   "cell_type": "code",
   "execution_count": 3,
   "metadata": {},
   "outputs": [
    {
     "data": {
      "text/plain": [
       "Index(['Unnamed: 0', 'name', 'studio', 'domestic_gross_x', 'foreign_gross',\n",
       "       'year', 'movie_id', 'original_title_x', 'start_year', 'runtime_minutes',\n",
       "       'genres', 'Unnamed: 0.1', 'genre_ids', 'id_x', 'original_language',\n",
       "       'original_title_y', 'popularity', 'release_date_x', 'vote_average',\n",
       "       'vote_count', 'id_y', 'release_date_y', 'production_budget',\n",
       "       'domestic_gross_y', 'worldwide_gross'],\n",
       "      dtype='object')"
      ]
     },
     "execution_count": 3,
     "metadata": {},
     "output_type": "execute_result"
    }
   ],
   "source": [
    "df = pd.read_csv(path)\n",
    "df.columns"
   ]
  },
  {
   "cell_type": "code",
   "execution_count": 4,
   "metadata": {},
   "outputs": [],
   "source": [
    "df.columns\n",
    "coldrops = ['Unnamed: 0.1', 'year', 'movie_id', 'original_title_x', 'start_year', 'Unnamed: 0', 'genre_ids', 'id_x', 'original_title_y', 'id_y','domestic_gross_x', 'foreign_gross','release_date_y']"
   ]
  },
  {
   "cell_type": "code",
   "execution_count": 5,
   "metadata": {},
   "outputs": [],
   "source": [
    "df = df.drop(coldrops, axis='columns')"
   ]
  },
  {
   "cell_type": "code",
   "execution_count": 6,
   "metadata": {},
   "outputs": [],
   "source": [
    "df.dropna(subset=['runtime_minutes', 'genres'], inplace=True)"
   ]
  },
  {
   "cell_type": "code",
   "execution_count": 7,
   "metadata": {},
   "outputs": [
    {
     "data": {
      "text/html": [
       "<div>\n",
       "<style scoped>\n",
       "    .dataframe tbody tr th:only-of-type {\n",
       "        vertical-align: middle;\n",
       "    }\n",
       "\n",
       "    .dataframe tbody tr th {\n",
       "        vertical-align: top;\n",
       "    }\n",
       "\n",
       "    .dataframe thead th {\n",
       "        text-align: right;\n",
       "    }\n",
       "</style>\n",
       "<table border=\"1\" class=\"dataframe\">\n",
       "  <thead>\n",
       "    <tr style=\"text-align: right;\">\n",
       "      <th></th>\n",
       "      <th>name</th>\n",
       "      <th>studio</th>\n",
       "      <th>runtime_minutes</th>\n",
       "      <th>genres</th>\n",
       "      <th>original_language</th>\n",
       "      <th>popularity</th>\n",
       "      <th>release_date_x</th>\n",
       "      <th>vote_average</th>\n",
       "      <th>vote_count</th>\n",
       "      <th>production_budget</th>\n",
       "      <th>domestic_gross_y</th>\n",
       "      <th>worldwide_gross</th>\n",
       "    </tr>\n",
       "  </thead>\n",
       "  <tbody>\n",
       "    <tr>\n",
       "      <th>0</th>\n",
       "      <td>Toy Story 3</td>\n",
       "      <td>BV</td>\n",
       "      <td>103.0</td>\n",
       "      <td>Adventure,Animation,Comedy</td>\n",
       "      <td>en</td>\n",
       "      <td>24.445</td>\n",
       "      <td>2010-06-17</td>\n",
       "      <td>7.7</td>\n",
       "      <td>8340</td>\n",
       "      <td>$200,000,000</td>\n",
       "      <td>$415,004,880</td>\n",
       "      <td>$1,068,879,522</td>\n",
       "    </tr>\n",
       "    <tr>\n",
       "      <th>1</th>\n",
       "      <td>Inception</td>\n",
       "      <td>WB</td>\n",
       "      <td>148.0</td>\n",
       "      <td>Action,Adventure,Sci-Fi</td>\n",
       "      <td>en</td>\n",
       "      <td>27.920</td>\n",
       "      <td>2010-07-16</td>\n",
       "      <td>8.3</td>\n",
       "      <td>22186</td>\n",
       "      <td>$160,000,000</td>\n",
       "      <td>$292,576,195</td>\n",
       "      <td>$835,524,642</td>\n",
       "    </tr>\n",
       "    <tr>\n",
       "      <th>2</th>\n",
       "      <td>Shrek Forever After</td>\n",
       "      <td>P/DW</td>\n",
       "      <td>93.0</td>\n",
       "      <td>Adventure,Animation,Comedy</td>\n",
       "      <td>en</td>\n",
       "      <td>15.041</td>\n",
       "      <td>2010-05-16</td>\n",
       "      <td>6.1</td>\n",
       "      <td>3843</td>\n",
       "      <td>$165,000,000</td>\n",
       "      <td>$238,736,787</td>\n",
       "      <td>$756,244,673</td>\n",
       "    </tr>\n",
       "    <tr>\n",
       "      <th>3</th>\n",
       "      <td>The Twilight Saga: Eclipse</td>\n",
       "      <td>Sum.</td>\n",
       "      <td>124.0</td>\n",
       "      <td>Adventure,Drama,Fantasy</td>\n",
       "      <td>en</td>\n",
       "      <td>20.340</td>\n",
       "      <td>2010-06-23</td>\n",
       "      <td>6.0</td>\n",
       "      <td>4909</td>\n",
       "      <td>$68,000,000</td>\n",
       "      <td>$300,531,751</td>\n",
       "      <td>$706,102,828</td>\n",
       "    </tr>\n",
       "    <tr>\n",
       "      <th>4</th>\n",
       "      <td>Iron Man 2</td>\n",
       "      <td>Par.</td>\n",
       "      <td>124.0</td>\n",
       "      <td>Action,Adventure,Sci-Fi</td>\n",
       "      <td>en</td>\n",
       "      <td>28.515</td>\n",
       "      <td>2010-05-07</td>\n",
       "      <td>6.8</td>\n",
       "      <td>12368</td>\n",
       "      <td>$170,000,000</td>\n",
       "      <td>$312,433,331</td>\n",
       "      <td>$621,156,389</td>\n",
       "    </tr>\n",
       "    <tr>\n",
       "      <th>...</th>\n",
       "      <td>...</td>\n",
       "      <td>...</td>\n",
       "      <td>...</td>\n",
       "      <td>...</td>\n",
       "      <td>...</td>\n",
       "      <td>...</td>\n",
       "      <td>...</td>\n",
       "      <td>...</td>\n",
       "      <td>...</td>\n",
       "      <td>...</td>\n",
       "      <td>...</td>\n",
       "      <td>...</td>\n",
       "    </tr>\n",
       "    <tr>\n",
       "      <th>2092</th>\n",
       "      <td>Mandy</td>\n",
       "      <td>RLJ</td>\n",
       "      <td>113.0</td>\n",
       "      <td>Drama,Thriller</td>\n",
       "      <td>en</td>\n",
       "      <td>16.240</td>\n",
       "      <td>2018-09-13</td>\n",
       "      <td>6.2</td>\n",
       "      <td>618</td>\n",
       "      <td>$6,000,000</td>\n",
       "      <td>$1,214,525</td>\n",
       "      <td>$1,427,656</td>\n",
       "    </tr>\n",
       "    <tr>\n",
       "      <th>2093</th>\n",
       "      <td>Mandy</td>\n",
       "      <td>RLJ</td>\n",
       "      <td>121.0</td>\n",
       "      <td>Action,Fantasy,Horror</td>\n",
       "      <td>en</td>\n",
       "      <td>0.600</td>\n",
       "      <td>2016-01-24</td>\n",
       "      <td>3.5</td>\n",
       "      <td>2</td>\n",
       "      <td>$6,000,000</td>\n",
       "      <td>$1,214,525</td>\n",
       "      <td>$1,427,656</td>\n",
       "    </tr>\n",
       "    <tr>\n",
       "      <th>2094</th>\n",
       "      <td>Mandy</td>\n",
       "      <td>RLJ</td>\n",
       "      <td>121.0</td>\n",
       "      <td>Action,Fantasy,Horror</td>\n",
       "      <td>en</td>\n",
       "      <td>16.240</td>\n",
       "      <td>2018-09-13</td>\n",
       "      <td>6.2</td>\n",
       "      <td>618</td>\n",
       "      <td>$6,000,000</td>\n",
       "      <td>$1,214,525</td>\n",
       "      <td>$1,427,656</td>\n",
       "    </tr>\n",
       "    <tr>\n",
       "      <th>2095</th>\n",
       "      <td>Lean on Pete</td>\n",
       "      <td>A24</td>\n",
       "      <td>121.0</td>\n",
       "      <td>Adventure,Drama</td>\n",
       "      <td>en</td>\n",
       "      <td>9.307</td>\n",
       "      <td>2018-04-06</td>\n",
       "      <td>6.9</td>\n",
       "      <td>133</td>\n",
       "      <td>$8,000,000</td>\n",
       "      <td>$1,163,056</td>\n",
       "      <td>$2,455,027</td>\n",
       "    </tr>\n",
       "    <tr>\n",
       "      <th>2096</th>\n",
       "      <td>Lean on Pete</td>\n",
       "      <td>A24</td>\n",
       "      <td>121.0</td>\n",
       "      <td>Adventure,Drama</td>\n",
       "      <td>en</td>\n",
       "      <td>9.307</td>\n",
       "      <td>2018-04-06</td>\n",
       "      <td>6.9</td>\n",
       "      <td>133</td>\n",
       "      <td>$8,000,000</td>\n",
       "      <td>$1,163,056</td>\n",
       "      <td>$2,455,027</td>\n",
       "    </tr>\n",
       "  </tbody>\n",
       "</table>\n",
       "<p>1952 rows × 12 columns</p>\n",
       "</div>"
      ],
      "text/plain": [
       "                            name studio  runtime_minutes  \\\n",
       "0                    Toy Story 3     BV            103.0   \n",
       "1                      Inception     WB            148.0   \n",
       "2            Shrek Forever After   P/DW             93.0   \n",
       "3     The Twilight Saga: Eclipse   Sum.            124.0   \n",
       "4                     Iron Man 2   Par.            124.0   \n",
       "...                          ...    ...              ...   \n",
       "2092                       Mandy    RLJ            113.0   \n",
       "2093                       Mandy    RLJ            121.0   \n",
       "2094                       Mandy    RLJ            121.0   \n",
       "2095                Lean on Pete    A24            121.0   \n",
       "2096                Lean on Pete    A24            121.0   \n",
       "\n",
       "                          genres original_language  popularity release_date_x  \\\n",
       "0     Adventure,Animation,Comedy                en      24.445     2010-06-17   \n",
       "1        Action,Adventure,Sci-Fi                en      27.920     2010-07-16   \n",
       "2     Adventure,Animation,Comedy                en      15.041     2010-05-16   \n",
       "3        Adventure,Drama,Fantasy                en      20.340     2010-06-23   \n",
       "4        Action,Adventure,Sci-Fi                en      28.515     2010-05-07   \n",
       "...                          ...               ...         ...            ...   \n",
       "2092              Drama,Thriller                en      16.240     2018-09-13   \n",
       "2093       Action,Fantasy,Horror                en       0.600     2016-01-24   \n",
       "2094       Action,Fantasy,Horror                en      16.240     2018-09-13   \n",
       "2095             Adventure,Drama                en       9.307     2018-04-06   \n",
       "2096             Adventure,Drama                en       9.307     2018-04-06   \n",
       "\n",
       "      vote_average  vote_count production_budget domestic_gross_y  \\\n",
       "0              7.7        8340      $200,000,000     $415,004,880   \n",
       "1              8.3       22186      $160,000,000     $292,576,195   \n",
       "2              6.1        3843      $165,000,000     $238,736,787   \n",
       "3              6.0        4909       $68,000,000     $300,531,751   \n",
       "4              6.8       12368      $170,000,000     $312,433,331   \n",
       "...            ...         ...               ...              ...   \n",
       "2092           6.2         618        $6,000,000       $1,214,525   \n",
       "2093           3.5           2        $6,000,000       $1,214,525   \n",
       "2094           6.2         618        $6,000,000       $1,214,525   \n",
       "2095           6.9         133        $8,000,000       $1,163,056   \n",
       "2096           6.9         133        $8,000,000       $1,163,056   \n",
       "\n",
       "     worldwide_gross  \n",
       "0     $1,068,879,522  \n",
       "1       $835,524,642  \n",
       "2       $756,244,673  \n",
       "3       $706,102,828  \n",
       "4       $621,156,389  \n",
       "...              ...  \n",
       "2092      $1,427,656  \n",
       "2093      $1,427,656  \n",
       "2094      $1,427,656  \n",
       "2095      $2,455,027  \n",
       "2096      $2,455,027  \n",
       "\n",
       "[1952 rows x 12 columns]"
      ]
     },
     "execution_count": 7,
     "metadata": {},
     "output_type": "execute_result"
    }
   ],
   "source": [
    "df"
   ]
  },
  {
   "cell_type": "code",
   "execution_count": 8,
   "metadata": {},
   "outputs": [],
   "source": [
    "df.to_csv('./cleaned_data.csv')"
   ]
  },
  {
   "cell_type": "code",
   "execution_count": 9,
   "metadata": {},
   "outputs": [
    {
     "name": "stdout",
     "output_type": "stream",
     "text": [
      "<class 'pandas.core.frame.DataFrame'>\n",
      "Int64Index: 1952 entries, 0 to 2096\n",
      "Data columns (total 12 columns):\n",
      " #   Column             Non-Null Count  Dtype  \n",
      "---  ------             --------------  -----  \n",
      " 0   name               1952 non-null   object \n",
      " 1   studio             1952 non-null   object \n",
      " 2   runtime_minutes    1952 non-null   float64\n",
      " 3   genres             1952 non-null   object \n",
      " 4   original_language  1952 non-null   object \n",
      " 5   popularity         1952 non-null   float64\n",
      " 6   release_date_x     1952 non-null   object \n",
      " 7   vote_average       1952 non-null   float64\n",
      " 8   vote_count         1952 non-null   int64  \n",
      " 9   production_budget  1952 non-null   object \n",
      " 10  domestic_gross_y   1952 non-null   object \n",
      " 11  worldwide_gross    1952 non-null   object \n",
      "dtypes: float64(3), int64(1), object(8)\n",
      "memory usage: 198.2+ KB\n"
     ]
    }
   ],
   "source": [
    "df.info()"
   ]
  },
  {
   "cell_type": "code",
   "execution_count": 10,
   "metadata": {},
   "outputs": [
    {
     "data": {
      "text/plain": [
       "name                 0\n",
       "studio               0\n",
       "runtime_minutes      0\n",
       "genres               0\n",
       "original_language    0\n",
       "popularity           0\n",
       "release_date_x       0\n",
       "vote_average         0\n",
       "vote_count           0\n",
       "production_budget    0\n",
       "domestic_gross_y     0\n",
       "worldwide_gross      0\n",
       "dtype: int64"
      ]
     },
     "execution_count": 10,
     "metadata": {},
     "output_type": "execute_result"
    }
   ],
   "source": [
    "#checking for missing values\n",
    "df.isnull().sum()"
   ]
  },
  {
   "cell_type": "code",
   "execution_count": 11,
   "metadata": {},
   "outputs": [
    {
     "data": {
      "text/plain": [
       "188"
      ]
     },
     "execution_count": 11,
     "metadata": {},
     "output_type": "execute_result"
    }
   ],
   "source": [
    "#checking for duplicates\n",
    "df.duplicated().sum()"
   ]
  },
  {
   "cell_type": "code",
   "execution_count": 12,
   "metadata": {},
   "outputs": [
    {
     "name": "stdout",
     "output_type": "stream",
     "text": [
      "<class 'pandas.core.frame.DataFrame'>\n",
      "Int64Index: 1764 entries, 0 to 2095\n",
      "Data columns (total 12 columns):\n",
      " #   Column             Non-Null Count  Dtype  \n",
      "---  ------             --------------  -----  \n",
      " 0   name               1764 non-null   object \n",
      " 1   studio             1764 non-null   object \n",
      " 2   runtime_minutes    1764 non-null   float64\n",
      " 3   genres             1764 non-null   object \n",
      " 4   original_language  1764 non-null   object \n",
      " 5   popularity         1764 non-null   float64\n",
      " 6   release_date_x     1764 non-null   object \n",
      " 7   vote_average       1764 non-null   float64\n",
      " 8   vote_count         1764 non-null   int64  \n",
      " 9   production_budget  1764 non-null   object \n",
      " 10  domestic_gross_y   1764 non-null   object \n",
      " 11  worldwide_gross    1764 non-null   object \n",
      "dtypes: float64(3), int64(1), object(8)\n",
      "memory usage: 179.2+ KB\n"
     ]
    }
   ],
   "source": [
    "df.drop_duplicates(keep='first',inplace=True)#keep the first occurence\n",
    "df.info()"
   ]
  },
  {
   "cell_type": "code",
   "execution_count": 13,
   "metadata": {},
   "outputs": [
    {
     "data": {
      "text/plain": [
       "name                  object\n",
       "studio                object\n",
       "runtime_minutes      float64\n",
       "genres                object\n",
       "original_language     object\n",
       "popularity           float64\n",
       "release_date_x        object\n",
       "vote_average         float64\n",
       "vote_count             int64\n",
       "production_budget     object\n",
       "domestic_gross_y      object\n",
       "worldwide_gross       object\n",
       "dtype: object"
      ]
     },
     "execution_count": 13,
     "metadata": {},
     "output_type": "execute_result"
    }
   ],
   "source": [
    "df.dtypes"
   ]
  },
  {
   "cell_type": "code",
   "execution_count": 14,
   "metadata": {},
   "outputs": [
    {
     "data": {
      "text/html": [
       "<div>\n",
       "<style scoped>\n",
       "    .dataframe tbody tr th:only-of-type {\n",
       "        vertical-align: middle;\n",
       "    }\n",
       "\n",
       "    .dataframe tbody tr th {\n",
       "        vertical-align: top;\n",
       "    }\n",
       "\n",
       "    .dataframe thead th {\n",
       "        text-align: right;\n",
       "    }\n",
       "</style>\n",
       "<table border=\"1\" class=\"dataframe\">\n",
       "  <thead>\n",
       "    <tr style=\"text-align: right;\">\n",
       "      <th></th>\n",
       "      <th>name</th>\n",
       "      <th>studio</th>\n",
       "      <th>runtime_minutes</th>\n",
       "      <th>genres</th>\n",
       "      <th>original_language</th>\n",
       "      <th>popularity</th>\n",
       "      <th>release_date_x</th>\n",
       "      <th>vote_average</th>\n",
       "      <th>vote_count</th>\n",
       "      <th>production_budget</th>\n",
       "      <th>domestic_gross_y</th>\n",
       "      <th>worldwide_gross</th>\n",
       "    </tr>\n",
       "  </thead>\n",
       "  <tbody>\n",
       "    <tr>\n",
       "      <th>0</th>\n",
       "      <td>Toy Story 3</td>\n",
       "      <td>BV</td>\n",
       "      <td>103.0</td>\n",
       "      <td>Adventure,Animation,Comedy</td>\n",
       "      <td>en</td>\n",
       "      <td>24.445</td>\n",
       "      <td>2010-06-17</td>\n",
       "      <td>7.7</td>\n",
       "      <td>8340</td>\n",
       "      <td>200000000</td>\n",
       "      <td>415004880</td>\n",
       "      <td>1068879522</td>\n",
       "    </tr>\n",
       "    <tr>\n",
       "      <th>1</th>\n",
       "      <td>Inception</td>\n",
       "      <td>WB</td>\n",
       "      <td>148.0</td>\n",
       "      <td>Action,Adventure,Sci-Fi</td>\n",
       "      <td>en</td>\n",
       "      <td>27.920</td>\n",
       "      <td>2010-07-16</td>\n",
       "      <td>8.3</td>\n",
       "      <td>22186</td>\n",
       "      <td>160000000</td>\n",
       "      <td>292576195</td>\n",
       "      <td>835524642</td>\n",
       "    </tr>\n",
       "    <tr>\n",
       "      <th>2</th>\n",
       "      <td>Shrek Forever After</td>\n",
       "      <td>P/DW</td>\n",
       "      <td>93.0</td>\n",
       "      <td>Adventure,Animation,Comedy</td>\n",
       "      <td>en</td>\n",
       "      <td>15.041</td>\n",
       "      <td>2010-05-16</td>\n",
       "      <td>6.1</td>\n",
       "      <td>3843</td>\n",
       "      <td>165000000</td>\n",
       "      <td>238736787</td>\n",
       "      <td>756244673</td>\n",
       "    </tr>\n",
       "    <tr>\n",
       "      <th>3</th>\n",
       "      <td>The Twilight Saga: Eclipse</td>\n",
       "      <td>Sum.</td>\n",
       "      <td>124.0</td>\n",
       "      <td>Adventure,Drama,Fantasy</td>\n",
       "      <td>en</td>\n",
       "      <td>20.340</td>\n",
       "      <td>2010-06-23</td>\n",
       "      <td>6.0</td>\n",
       "      <td>4909</td>\n",
       "      <td>68000000</td>\n",
       "      <td>300531751</td>\n",
       "      <td>706102828</td>\n",
       "    </tr>\n",
       "    <tr>\n",
       "      <th>4</th>\n",
       "      <td>Iron Man 2</td>\n",
       "      <td>Par.</td>\n",
       "      <td>124.0</td>\n",
       "      <td>Action,Adventure,Sci-Fi</td>\n",
       "      <td>en</td>\n",
       "      <td>28.515</td>\n",
       "      <td>2010-05-07</td>\n",
       "      <td>6.8</td>\n",
       "      <td>12368</td>\n",
       "      <td>170000000</td>\n",
       "      <td>312433331</td>\n",
       "      <td>621156389</td>\n",
       "    </tr>\n",
       "  </tbody>\n",
       "</table>\n",
       "</div>"
      ],
      "text/plain": [
       "                         name studio  runtime_minutes  \\\n",
       "0                 Toy Story 3     BV            103.0   \n",
       "1                   Inception     WB            148.0   \n",
       "2         Shrek Forever After   P/DW             93.0   \n",
       "3  The Twilight Saga: Eclipse   Sum.            124.0   \n",
       "4                  Iron Man 2   Par.            124.0   \n",
       "\n",
       "                       genres original_language  popularity release_date_x  \\\n",
       "0  Adventure,Animation,Comedy                en      24.445     2010-06-17   \n",
       "1     Action,Adventure,Sci-Fi                en      27.920     2010-07-16   \n",
       "2  Adventure,Animation,Comedy                en      15.041     2010-05-16   \n",
       "3     Adventure,Drama,Fantasy                en      20.340     2010-06-23   \n",
       "4     Action,Adventure,Sci-Fi                en      28.515     2010-05-07   \n",
       "\n",
       "   vote_average  vote_count  production_budget  domestic_gross_y  \\\n",
       "0           7.7        8340          200000000         415004880   \n",
       "1           8.3       22186          160000000         292576195   \n",
       "2           6.1        3843          165000000         238736787   \n",
       "3           6.0        4909           68000000         300531751   \n",
       "4           6.8       12368          170000000         312433331   \n",
       "\n",
       "   worldwide_gross  \n",
       "0       1068879522  \n",
       "1        835524642  \n",
       "2        756244673  \n",
       "3        706102828  \n",
       "4        621156389  "
      ]
     },
     "execution_count": 14,
     "metadata": {},
     "output_type": "execute_result"
    }
   ],
   "source": [
    "def clean_currency(col):\n",
    "    return pd.to_numeric(col.str.replace('[$,]', '', regex=True), errors='coerce')\n",
    "\n",
    "# removing the dollar sign to make some columns numerical\n",
    "df['production_budget'] = clean_currency(df['production_budget'])\n",
    "df['domestic_gross_y'] = clean_currency(df['domestic_gross_y'])\n",
    "df['worldwide_gross'] = clean_currency(df['worldwide_gross'])\n",
    "df.head()"
   ]
  },
  {
   "cell_type": "code",
   "execution_count": 15,
   "metadata": {},
   "outputs": [
    {
     "data": {
      "text/html": [
       "<div>\n",
       "<style scoped>\n",
       "    .dataframe tbody tr th:only-of-type {\n",
       "        vertical-align: middle;\n",
       "    }\n",
       "\n",
       "    .dataframe tbody tr th {\n",
       "        vertical-align: top;\n",
       "    }\n",
       "\n",
       "    .dataframe thead th {\n",
       "        text-align: right;\n",
       "    }\n",
       "</style>\n",
       "<table border=\"1\" class=\"dataframe\">\n",
       "  <thead>\n",
       "    <tr style=\"text-align: right;\">\n",
       "      <th></th>\n",
       "      <th>runtime_minutes</th>\n",
       "      <th>popularity</th>\n",
       "      <th>vote_average</th>\n",
       "      <th>vote_count</th>\n",
       "      <th>production_budget</th>\n",
       "      <th>domestic_gross_y</th>\n",
       "      <th>worldwide_gross</th>\n",
       "    </tr>\n",
       "  </thead>\n",
       "  <tbody>\n",
       "    <tr>\n",
       "      <th>0</th>\n",
       "      <td>False</td>\n",
       "      <td>False</td>\n",
       "      <td>False</td>\n",
       "      <td>True</td>\n",
       "      <td>True</td>\n",
       "      <td>True</td>\n",
       "      <td>True</td>\n",
       "    </tr>\n",
       "    <tr>\n",
       "      <th>1</th>\n",
       "      <td>False</td>\n",
       "      <td>True</td>\n",
       "      <td>False</td>\n",
       "      <td>True</td>\n",
       "      <td>True</td>\n",
       "      <td>True</td>\n",
       "      <td>True</td>\n",
       "    </tr>\n",
       "    <tr>\n",
       "      <th>2</th>\n",
       "      <td>False</td>\n",
       "      <td>False</td>\n",
       "      <td>False</td>\n",
       "      <td>False</td>\n",
       "      <td>True</td>\n",
       "      <td>True</td>\n",
       "      <td>True</td>\n",
       "    </tr>\n",
       "    <tr>\n",
       "      <th>3</th>\n",
       "      <td>False</td>\n",
       "      <td>False</td>\n",
       "      <td>False</td>\n",
       "      <td>False</td>\n",
       "      <td>False</td>\n",
       "      <td>True</td>\n",
       "      <td>True</td>\n",
       "    </tr>\n",
       "    <tr>\n",
       "      <th>4</th>\n",
       "      <td>False</td>\n",
       "      <td>True</td>\n",
       "      <td>False</td>\n",
       "      <td>True</td>\n",
       "      <td>True</td>\n",
       "      <td>True</td>\n",
       "      <td>True</td>\n",
       "    </tr>\n",
       "  </tbody>\n",
       "</table>\n",
       "</div>"
      ],
      "text/plain": [
       "   runtime_minutes  popularity  vote_average  vote_count  production_budget  \\\n",
       "0            False       False         False        True               True   \n",
       "1            False        True         False        True               True   \n",
       "2            False       False         False       False               True   \n",
       "3            False       False         False       False              False   \n",
       "4            False        True         False        True               True   \n",
       "\n",
       "   domestic_gross_y  worldwide_gross  \n",
       "0              True             True  \n",
       "1              True             True  \n",
       "2              True             True  \n",
       "3              True             True  \n",
       "4              True             True  "
      ]
     },
     "execution_count": 15,
     "metadata": {},
     "output_type": "execute_result"
    }
   ],
   "source": [
    "#checking for outliers\n",
    "def detect_outliers_iqr(df):\n",
    "    Q1 = df.quantile(0.25)\n",
    "    Q3 = df.quantile(0.75)\n",
    "    IQR = Q3 - Q1\n",
    "    return ((df < (Q1 - 1.5 * IQR)) | (df > (Q3 + 1.5 * IQR)))\n",
    "\n",
    "outliers = detect_outliers_iqr(df.select_dtypes(include=['float64', 'int64']))\n",
    "outliers.head()"
   ]
  },
  {
   "cell_type": "code",
   "execution_count": 16,
   "metadata": {},
   "outputs": [
    {
     "data": {
      "text/plain": [
       "name                 456\n",
       "studio               456\n",
       "runtime_minutes      456\n",
       "genres               456\n",
       "original_language    456\n",
       "popularity           456\n",
       "release_date_x       456\n",
       "vote_average         456\n",
       "vote_count           456\n",
       "production_budget    456\n",
       "domestic_gross_y     456\n",
       "worldwide_gross      456\n",
       "dtype: int64"
      ]
     },
     "execution_count": 16,
     "metadata": {},
     "output_type": "execute_result"
    }
   ],
   "source": [
    "# Create a mask for outliers\n",
    "outlier_mask = outliers.any(axis=1)  # This will give you a Series of booleans indicating if any value in the row is an outlier\n",
    "\n",
    "# Display the outlier rows from the original DataFrame\n",
    "outlier_rows = df[outlier_mask]\n",
    "outlier_rows.count()"
   ]
  },
  {
   "cell_type": "code",
   "execution_count": 17,
   "metadata": {},
   "outputs": [
    {
     "data": {
      "text/plain": [
       "array([[<AxesSubplot:title={'center':'runtime_minutes'}>,\n",
       "        <AxesSubplot:title={'center':'popularity'}>,\n",
       "        <AxesSubplot:title={'center':'vote_average'}>],\n",
       "       [<AxesSubplot:title={'center':'vote_count'}>,\n",
       "        <AxesSubplot:title={'center':'production_budget'}>,\n",
       "        <AxesSubplot:title={'center':'domestic_gross_y'}>],\n",
       "       [<AxesSubplot:title={'center':'worldwide_gross'}>, <AxesSubplot:>,\n",
       "        <AxesSubplot:>]], dtype=object)"
      ]
     },
     "execution_count": 17,
     "metadata": {},
     "output_type": "execute_result"
    },
    {
     "data": {
      "image/png": "[encoded data removed]",
      "text/plain": [
       "<Figure size 1080x720 with 9 Axes>"
      ]
     },
     "metadata": {
      "needs_background": "light"
     },
     "output_type": "display_data"
    }
   ],
   "source": [
    "df.hist(figsize =(15,10))"
   ]
  },
  {
   "cell_type": "code",
   "execution_count": null,
   "metadata": {},
   "outputs": [],
   "source": []
  }
 ],
 "metadata": {
  "kernelspec": {
   "display_name": "learn-env",
   "language": "python",
   "name": "python3"
  },
  "language_info": {
   "codemirror_mode": {
    "name": "ipython",
    "version": 3
   },
   "file_extension": ".py",
   "mimetype": "text/x-python",
   "name": "python",
   "nbconvert_exporter": "python",
   "pygments_lexer": "ipython3",
   "version": "3.8.5"
  }
 },
 "nbformat": 4,
 "nbformat_minor": 2
}
